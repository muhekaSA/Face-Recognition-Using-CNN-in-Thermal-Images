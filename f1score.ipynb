{
 "cells": [
  {
   "cell_type": "code",
   "execution_count": 1,
   "id": "613eba63-3657-4042-b82c-91413eafa27f",
   "metadata": {},
   "outputs": [],
   "source": [
    "from matplotlib import pyplot as plt\n",
    "from sklearn.metrics import confusion_matrix , classification_report\n",
    "import numpy as np\n",
    "import pandas as pd\n",
    "import seaborn as sns"
   ]
  },
  {
   "cell_type": "code",
   "execution_count": 2,
   "id": "0b76f620-5934-4bd0-a12a-c7bbfc10d0ff",
   "metadata": {},
   "outputs": [],
   "source": [
    "# Source code credit for this function: https://gist.github.com/shaypal5/94c53d765083101efc0240d776a23823\n",
    "def print_confusion_matrix(confusion_matrix, class_names, figsize = (10,7), fontsize=14):\n",
    "    \"\"\"Prints a confusion matrix, as returned by sklearn.metrics.confusion_matrix, as a heatmap.\n",
    "    \n",
    "    Arguments\n",
    "    ---------\n",
    "    confusion_matrix: numpy.ndarray\n",
    "        The numpy.ndarray object returned from a call to sklearn.metrics.confusion_matrix. \n",
    "        Similarly constructed ndarrays can also be used.\n",
    "    class_names: list\n",
    "        An ordered list of class names, in the order they index the given confusion matrix.\n",
    "    figsize: tuple\n",
    "        A 2-long tuple, the first value determining the horizontal size of the ouputted figure,\n",
    "        the second determining the vertical size. Defaults to (10,7).\n",
    "    fontsize: int\n",
    "        Font size for axes labels. Defaults to 14.\n",
    "        \n",
    "    Returns\n",
    "    -------\n",
    "    matplotlib.figure.Figure\n",
    "        The resulting confusion matrix figure\n",
    "    \"\"\"\n",
    "    df_cm = pd.DataFrame(\n",
    "        confusion_matrix, index=class_names, columns=class_names, \n",
    "    )\n",
    "    fig = plt.figure(figsize=figsize)\n",
    "    try:\n",
    "        heatmap = sns.heatmap(df_cm, annot=True, fmt=\"d\")\n",
    "    except ValueError:\n",
    "        raise ValueError(\"Confusion matrix values must be integers.\")\n",
    "    heatmap.yaxis.set_ticklabels(heatmap.yaxis.get_ticklabels(), rotation=0, ha='right', fontsize=fontsize)\n",
    "    heatmap.xaxis.set_ticklabels(heatmap.xaxis.get_ticklabels(), rotation=45, ha='right', fontsize=fontsize)\n",
    "    plt.ylabel('Truth')\n",
    "    plt.xlabel('Prediction')"
   ]
  },
  {
   "cell_type": "code",
   "execution_count": 17,
   "id": "59ec1bef-8cdf-416f-a523-bc65ceb47ff7",
   "metadata": {},
   "outputs": [],
   "source": [
    "truth =      [\"Esa\",\"Eka\",\"Eka\",\"Esa\",\"Eka\",\"Esa\",\"Eka\",\"Esa\",\"Esa\",\"Esa\",\"Eka\",\"Eka\",\"Eka\",\"Eka\",\"Esa\",\"Eka\",\"Eka\",\"Esa\",\"Esa\"]\n",
    "prediction = [\"Esa\",\"Eka\",\"Esa\",\"Esa\",\"Eka\",\"Esa\",\"Esa\",\"Esa\",\"Esa\",\"Esa\",\"Esa\",\"Esa\",\"Eka\",\"Eka\",\"Esa\",\"Esa\",\"Esa\",\"Eka\",\"Esa\"]"
   ]
  },
  {
   "cell_type": "code",
   "execution_count": 18,
   "id": "6d84dedf-540a-4fb7-958e-849741a4df04",
   "metadata": {},
   "outputs": [
    {
     "data": {
      "image/png": "[encoded data removed]",
      "text/plain": [
       "<Figure size 720x504 with 2 Axes>"
      ]
     },
     "metadata": {
      "needs_background": "light"
     },
     "output_type": "display_data"
    }
   ],
   "source": [
    "cm = confusion_matrix(truth,prediction)\n",
    "print_confusion_matrix(cm,[\"Eka\",\"Esa\"])"
   ]
  },
  {
   "cell_type": "code",
   "execution_count": 19,
   "id": "2279684b-e1bd-4c51-9b28-b8fcf4a1a7a0",
   "metadata": {},
   "outputs": [
    {
     "name": "stdout",
     "output_type": "stream",
     "text": [
      "              precision    recall  f1-score   support\n",
      "\n",
      "         Eka       0.80      0.40      0.53        10\n",
      "         Esa       0.57      0.89      0.70         9\n",
      "\n",
      "    accuracy                           0.63        19\n",
      "   macro avg       0.69      0.64      0.61        19\n",
      "weighted avg       0.69      0.63      0.61        19\n",
      "\n"
     ]
    }
   ],
   "source": [
    "print(classification_report(truth, prediction))"
   ]
  },
  {
   "cell_type": "code",
   "execution_count": null,
   "id": "2d5d1b5b-78f3-4493-9cab-4eac3267d3dd",
   "metadata": {},
   "outputs": [],
   "source": []
  }
 ],
 "metadata": {
  "kernelspec": {
   "display_name": "Python 3 (ipykernel)",
   "language": "python",
   "name": "python3"
  },
  "language_info": {
   "codemirror_mode": {
    "name": "ipython",
    "version": 3
   },
   "file_extension": ".py",
   "mimetype": "text/x-python",
   "name": "python",
   "nbconvert_exporter": "python",
   "pygments_lexer": "ipython3",
   "version": "3.7.0"
  }
 },
 "nbformat": 4,
 "nbformat_minor": 5
}
