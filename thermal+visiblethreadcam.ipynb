{
 "cells": [
  {
   "cell_type": "code",
   "execution_count": 9,
   "id": "afcf1a29-9d9e-4d30-b642-19a687a04717",
   "metadata": {},
   "outputs": [],
   "source": [
    "import cv2\n",
    "import numpy as np\n",
    "\n",
    "capture1 = cv2.VideoCapture(0) #thermalcamera\n",
    "capture2 = cv2.VideoCapture(1) #visiblecamera\n",
    "codec1 = cv2.cv2.VideoWriter_fourcc(*'DIVX')#thermalcamera\n",
    "codec2 = cv2.VideoWriter_fourcc(*'MP4V') #visiblecamera\n",
    "width= int(capture1.get(cv2.CAP_PROP_FRAME_WIDTH))\n",
    "height= int(capture1.get(cv2.CAP_PROP_FRAME_HEIGHT))\n",
    "\n",
    "recording_flag = False\n",
    "\n",
    "while True:\n",
    "    ret, frame1 = capture1.read()#thermal camera\n",
    "    ret2, frame2 = capture2.read()#visible camera\n",
    "    cv2.imshow('FRAME', frame1)#thermal camera\n",
    "    cv2.imshow('FRAME2',frame2)#visible camera\n",
    "    key=cv2.waitKey(1)\n",
    "    if key%256 == 27:\n",
    "        break\n",
    "    elif key%256 == 32:\n",
    "        if recording_flag == False:\n",
    "            # we are transitioning from not recording to recording\n",
    "            rgb = cv2.VideoWriter('Video Generator/RGB-.mp4', codec2, 20, (640, 480))#visibla camera\n",
    "            thermal = cv2.VideoWriter('Video Generator/COBA THERMAL-.mp4',codec1, 20,(width,height))#thermal camera\n",
    "            recording_flag = True\n",
    "        else:\n",
    "            # transitioning from recording to not recording\n",
    "            recording_flag = False\n",
    "\n",
    "    if recording_flag:\n",
    "        rgb.write(frame2)\n",
    "        thermal.write(frame1)\n",
    "\n",
    "capture1.release()\n",
    "rgb.release()\n",
    "thermal.release()\n",
    "capture2.release()\n",
    "cv2.destroyAllWindows()"
   ]
  },
  {
   "cell_type": "code",
   "execution_count": null,
   "id": "a7693c7f-cfb7-4ea0-9679-5745c39c2442",
   "metadata": {},
   "outputs": [],
   "source": []
  },
  {
   "cell_type": "code",
   "execution_count": null,
   "id": "3b8dedbf-234e-4020-9de9-bf964a92b82e",
   "metadata": {},
   "outputs": [],
   "source": []
  }
 ],
 "metadata": {
  "kernelspec": {
   "display_name": "Python 3 (ipykernel)",
   "language": "python",
   "name": "python3"
  },
  "language_info": {
   "codemirror_mode": {
    "name": "ipython",
    "version": 3
   },
   "file_extension": ".py",
   "mimetype": "text/x-python",
   "name": "python",
   "nbconvert_exporter": "python",
   "pygments_lexer": "ipython3",
   "version": "3.7.0"
  }
 },
 "nbformat": 4,
 "nbformat_minor": 5
}
