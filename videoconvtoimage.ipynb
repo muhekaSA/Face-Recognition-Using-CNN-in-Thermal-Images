{
 "cells": [
  {
   "cell_type": "code",
   "execution_count": null,
   "id": "3b2e70bf-8100-49c5-a80a-a4b05c536eeb",
   "metadata": {},
   "outputs": [],
   "source": [
    "\n",
    "import cv2\n",
    "vidcap = cv2.VideoCapture('Video Generator/RGB-.mp4') # visible images\n",
    "vidcap2 = cv2.VideoCapture('Video Generator/Ruangan LiPI Negatif2.mp4') #thermal images\n",
    "success,image = vidcap.read()\n",
    "success2, image2 = vidcap2.read()\n",
    "count = 0\n",
    "count2 = 0\n",
    "while success:\n",
    "    cv2.imwrite(\"Image Extract From Video/Eka/RGB/eka.%d.jpg\" % count, image)     # RGB save frame as JPEG file \n",
    "    cv2.imwrite(\"Image Extract From Video/Eka/dataset ruangan lipi2/lipi.%d.jpg\" % count2, image2)     # Thermal save frame as JPEG file\n",
    "    succes2,image2 = vidcap2.read()\n",
    "    success,image = vidcap.read()\n",
    "    print('Read a new thermal frame:', success2)\n",
    "    print('Read a new rgb frame:', success)\n",
    "    count += 1\n",
    "    count2 +=1"
   ]
  },
  {
   "cell_type": "code",
   "execution_count": null,
   "id": "9276ad66-5284-4ced-bbc4-25daeda2f5fb",
   "metadata": {},
   "outputs": [],
   "source": []
  }
 ],
 "metadata": {
  "kernelspec": {
   "display_name": "Python 3 (ipykernel)",
   "language": "python",
   "name": "python3"
  },
  "language_info": {
   "codemirror_mode": {
    "name": "ipython",
    "version": 3
   },
   "file_extension": ".py",
   "mimetype": "text/x-python",
   "name": "python",
   "nbconvert_exporter": "python",
   "pygments_lexer": "ipython3",
   "version": "3.7.0"
  }
 },
 "nbformat": 4,
 "nbformat_minor": 5
}
