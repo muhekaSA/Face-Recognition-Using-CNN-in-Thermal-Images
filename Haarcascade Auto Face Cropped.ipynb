{
 "cells": [
  {
   "cell_type": "code",
   "execution_count": null,
   "id": "91f43f8e-057c-4a71-93b0-62a2c90a4d60",
   "metadata": {},
   "outputs": [],
   "source": [
    "import numpy as np\n",
    "import cv2\n",
    "import os, os.path\n",
    "face_cascade = cv2.CascadeClassifier('Training HaarClassifier/classifier/cascade.xml')  #THERMA: IMAGES\n",
    "#face_cascade =  cv2.CascadeClassifier(cv2.data.haarcascades +'opencv_haarcascade_frontalface_default.xml') #RGB IMAGES\n",
    "DIR = 'Image Extract From Video/Eka/perpus lipi4/'\n",
    "numPics = len([name for name in os.listdir(DIR) if os.path.isfile(os.path.join(DIR, name))])\n",
    "\n",
    "#### the counter\n",
    "cnt = 0\n",
    "for pic in range(0, (numPics+1)):\n",
    "    img = cv2.imread('Image Extract From Video/Eka/perpus lipi4/eka.'+str(pic)+'.jpg')\n",
    "    faces = face_cascade.detectMultiScale(img, 1.3, 5)\n",
    "\n",
    "    for (x,y,w,h) in faces:\n",
    "        imgCrop = img[y:y+h,x:x+w]\n",
    "        #faceresize = cv2.resize(img,(200,200))\n",
    "        roi_color = img[y:y+h, x:x+w]\n",
    "        cv2.imwrite(\"face cropped perpus 4/eka.{}.jpg\".format(pic), imgCrop)\n",
    "        #cv2.imwrite(\"outputthermal/crop{}_{}.jpg\".format(pic, cnt), imgCrop)\n",
    "        print(\"Image\"+str(pic)+\" has been processed and cropped\")\n",
    "\n",
    "    k = cv2.waitKey(100) & 0xff\n",
    "    if k == 27:\n",
    "        break\n",
    "\n",
    "#cap.release()\n",
    "print(\"All images have been processed!!!\")\n",
    "cv2.destroyAllWindows()\n",
    "cv2.destroyAllWindows()"
   ]
  },
  {
   "cell_type": "code",
   "execution_count": null,
   "id": "8d480422-4ff5-4b4b-a071-7d4ddc573453",
   "metadata": {},
   "outputs": [],
   "source": []
  }
 ],
 "metadata": {
  "kernelspec": {
   "display_name": "Python 3 (ipykernel)",
   "language": "python",
   "name": "python3"
  },
  "language_info": {
   "codemirror_mode": {
    "name": "ipython",
    "version": 3
   },
   "file_extension": ".py",
   "mimetype": "text/x-python",
   "name": "python",
   "nbconvert_exporter": "python",
   "pygments_lexer": "ipython3",
   "version": "3.7.0"
  }
 },
 "nbformat": 4,
 "nbformat_minor": 5
}
