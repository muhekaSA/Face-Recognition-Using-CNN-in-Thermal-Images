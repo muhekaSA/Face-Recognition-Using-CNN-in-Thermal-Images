{
 "cells": [
  {
   "cell_type": "code",
   "execution_count": 1,
   "id": "91f43f8e-057c-4a71-93b0-62a2c90a4d60",
   "metadata": {},
   "outputs": [
    {
     "name": "stdout",
     "output_type": "stream",
     "text": [
      "Image1 has been processed and cropped\n",
      "Image2 has been processed and cropped\n",
      "Image3 has been processed and cropped\n",
      "Image4 has been processed and cropped\n",
      "Image5 has been processed and cropped\n",
      "Image6 has been processed and cropped\n",
      "Image7 has been processed and cropped\n",
      "Image8 has been processed and cropped\n",
      "Image9 has been processed and cropped\n",
      "Image10 has been processed and cropped\n",
      "Image11 has been processed and cropped\n",
      "Image12 has been processed and cropped\n",
      "Image13 has been processed and cropped\n",
      "Image14 has been processed and cropped\n",
      "Image15 has been processed and cropped\n",
      "Image16 has been processed and cropped\n",
      "Image17 has been processed and cropped\n",
      "Image18 has been processed and cropped\n",
      "Image19 has been processed and cropped\n",
      "Image20 has been processed and cropped\n",
      "Image21 has been processed and cropped\n",
      "Image22 has been processed and cropped\n",
      "Image23 has been processed and cropped\n",
      "Image24 has been processed and cropped\n",
      "Image25 has been processed and cropped\n",
      "Image26 has been processed and cropped\n",
      "Image27 has been processed and cropped\n",
      "Image28 has been processed and cropped\n",
      "Image29 has been processed and cropped\n",
      "Image30 has been processed and cropped\n",
      "Image31 has been processed and cropped\n",
      "Image32 has been processed and cropped\n",
      "Image33 has been processed and cropped\n",
      "Image34 has been processed and cropped\n",
      "Image35 has been processed and cropped\n",
      "Image36 has been processed and cropped\n",
      "Image37 has been processed and cropped\n",
      "Image38 has been processed and cropped\n",
      "Image39 has been processed and cropped\n",
      "Image40 has been processed and cropped\n",
      "Image41 has been processed and cropped\n",
      "Image42 has been processed and cropped\n",
      "Image43 has been processed and cropped\n",
      "Image44 has been processed and cropped\n",
      "Image45 has been processed and cropped\n",
      "Image47 has been processed and cropped\n",
      "All images have been processed!!!\n"
     ]
    }
   ],
   "source": [
    "import numpy as np\n",
    "import cv2\n",
    "import os, os.path\n",
    "face_cascade = cv2.CascadeClassifier('Training HaarClassifier/classifier/cascade.xml')  #THERMA: IMAGES\n",
    "#face_cascade =  cv2.CascadeClassifier(cv2.data.haarcascades +'opencv_haarcascade_frontalface_default.xml') #RGB IMAGES\n",
    "DIR = 'Image Extract From Video/Pak Esa/Thermal/'\n",
    "numPics = len([name for name in os.listdir(DIR) if os.path.isfile(os.path.join(DIR, name))])\n",
    "\n",
    "#### the counter\n",
    "cnt = 0\n",
    "for pic in range(0, (numPics+1)):\n",
    "    img = cv2.imread('Image Extract From Video/Pak Esa/Thermal/pakesa.'+str(pic)+'.jpg')\n",
    "    faces = face_cascade.detectMultiScale(img, 1.3, 5)\n",
    "\n",
    "    for (x,y,w,h) in faces:\n",
    "        imgCrop = img[y:y+h,x:x+w]\n",
    "        #faceresize = cv2.resize(img,(200,200))\n",
    "        roi_color = img[y:y+h, x:x+w]\n",
    "        cv2.imwrite(\"Image Extract From Video/Pak Esa/cropped pak esa/pakesa.{}.jpg\".format(pic), imgCrop)\n",
    "        #cv2.imwrite(\"outputthermal/crop{}_{}.jpg\".format(pic, cnt), imgCrop)\n",
    "        print(\"Image\"+str(pic)+\" has been processed and cropped\")\n",
    "\n",
    "    k = cv2.waitKey(100) & 0xff\n",
    "    if k == 27:\n",
    "        break\n",
    "\n",
    "#cap.release()\n",
    "print(\"All images have been processed!!!\")\n",
    "cv2.destroyAllWindows()\n",
    "cv2.destroyAllWindows()"
   ]
  },
  {
   "cell_type": "code",
   "execution_count": null,
   "id": "8d480422-4ff5-4b4b-a071-7d4ddc573453",
   "metadata": {},
   "outputs": [],
   "source": []
  }
 ],
 "metadata": {
  "kernelspec": {
   "display_name": "Python 3 (ipykernel)",
   "language": "python",
   "name": "python3"
  },
  "language_info": {
   "codemirror_mode": {
    "name": "ipython",
    "version": 3
   },
   "file_extension": ".py",
   "mimetype": "text/x-python",
   "name": "python",
   "nbconvert_exporter": "python",
   "pygments_lexer": "ipython3",
   "version": "3.7.0"
  }
 },
 "nbformat": 4,
 "nbformat_minor": 5
}
