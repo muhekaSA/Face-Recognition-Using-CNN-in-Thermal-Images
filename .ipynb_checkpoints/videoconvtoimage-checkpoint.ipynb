{
 "cells": [
  {
   "cell_type": "code",
   "execution_count": 1,
   "id": "3b2e70bf-8100-49c5-a80a-a4b05c536eeb",
   "metadata": {},
   "outputs": [
    {
     "ename": "error",
     "evalue": "OpenCV(4.5.3) C:\\Users\\runneradmin\\AppData\\Local\\Temp\\pip-req-build-c2l3r8zm\\opencv\\modules\\imgcodecs\\src\\loadsave.cpp:803: error: (-215:Assertion failed) !_img.empty() in function 'cv::imwrite'\n",
     "output_type": "error",
     "traceback": [
      "\u001b[1;31m---------------------------------------------------------------------------\u001b[0m",
      "\u001b[1;31merror\u001b[0m                                     Traceback (most recent call last)",
      "\u001b[1;32m~\\AppData\\Local\\Temp/ipykernel_1176/957764147.py\u001b[0m in \u001b[0;36m<module>\u001b[1;34m\u001b[0m\n\u001b[0;32m      8\u001b[0m \u001b[1;32mwhile\u001b[0m \u001b[0msuccess\u001b[0m\u001b[1;33m:\u001b[0m\u001b[1;33m\u001b[0m\u001b[0m\n\u001b[0;32m      9\u001b[0m     \u001b[0mcv2\u001b[0m\u001b[1;33m.\u001b[0m\u001b[0mimwrite\u001b[0m\u001b[1;33m(\u001b[0m\u001b[1;34m\"Image Extract From Video/Eka/RGB/eka.%d.jpg\"\u001b[0m \u001b[1;33m%\u001b[0m \u001b[0mcount\u001b[0m\u001b[1;33m,\u001b[0m \u001b[0mimage\u001b[0m\u001b[1;33m)\u001b[0m     \u001b[1;31m# RGB save frame as JPEG file\u001b[0m\u001b[1;33m\u001b[0m\u001b[0m\n\u001b[1;32m---> 10\u001b[1;33m     \u001b[0mcv2\u001b[0m\u001b[1;33m.\u001b[0m\u001b[0mimwrite\u001b[0m\u001b[1;33m(\u001b[0m\u001b[1;34m\"Image Extract From Video/Eka/dataset ruangan lipi2/lipi.%d.jpg\"\u001b[0m \u001b[1;33m%\u001b[0m \u001b[0mcount2\u001b[0m\u001b[1;33m,\u001b[0m \u001b[0mimage2\u001b[0m\u001b[1;33m)\u001b[0m     \u001b[1;31m# Thermal save frame as JPEG file\u001b[0m\u001b[1;33m\u001b[0m\u001b[0m\n\u001b[0m\u001b[0;32m     11\u001b[0m     \u001b[0msucces2\u001b[0m\u001b[1;33m,\u001b[0m\u001b[0mimage2\u001b[0m \u001b[1;33m=\u001b[0m \u001b[0mvidcap2\u001b[0m\u001b[1;33m.\u001b[0m\u001b[0mread\u001b[0m\u001b[1;33m(\u001b[0m\u001b[1;33m)\u001b[0m\u001b[1;33m\u001b[0m\u001b[0m\n\u001b[0;32m     12\u001b[0m     \u001b[0msuccess\u001b[0m\u001b[1;33m,\u001b[0m\u001b[0mimage\u001b[0m \u001b[1;33m=\u001b[0m \u001b[0mvidcap\u001b[0m\u001b[1;33m.\u001b[0m\u001b[0mread\u001b[0m\u001b[1;33m(\u001b[0m\u001b[1;33m)\u001b[0m\u001b[1;33m\u001b[0m\u001b[0m\n",
      "\u001b[1;31merror\u001b[0m: OpenCV(4.5.3) C:\\Users\\runneradmin\\AppData\\Local\\Temp\\pip-req-build-c2l3r8zm\\opencv\\modules\\imgcodecs\\src\\loadsave.cpp:803: error: (-215:Assertion failed) !_img.empty() in function 'cv::imwrite'\n"
     ]
    }
   ],
   "source": [
    "\n",
    "import cv2\n",
    "vidcap = cv2.VideoCapture('Video Generator/RGB-.mp4') # visible images\n",
    "vidcap2 = cv2.VideoCapture('Video Generator/Ruangan LiPI Negatif2.mp4') #thermal images\n",
    "success,image = vidcap.read()\n",
    "success2, image2 = vidcap2.read()\n",
    "count = 0\n",
    "count2 = 0\n",
    "while success:\n",
    "    cv2.imwrite(\"Image Extract From Video/Eka/RGB/eka.%d.jpg\" % count, image)     # RGB save frame as JPEG file \n",
    "    cv2.imwrite(\"Image Extract From Video/Eka/dataset ruangan lipi2/lipi.%d.jpg\" % count2, image2)     # Thermal save frame as JPEG file\n",
    "    succes2,image2 = vidcap2.read()\n",
    "    success,image = vidcap.read()\n",
    "    print('Read a new thermal frame:', success2)\n",
    "    print('Read a new rgb frame:', success)\n",
    "    count += 1\n",
    "    count2 +=1"
   ]
  },
  {
   "cell_type": "code",
   "execution_count": null,
   "id": "9276ad66-5284-4ced-bbc4-25daeda2f5fb",
   "metadata": {},
   "outputs": [],
   "source": []
  }
 ],
 "metadata": {
  "kernelspec": {
   "display_name": "Python 3 (ipykernel)",
   "language": "python",
   "name": "python3"
  },
  "language_info": {
   "codemirror_mode": {
    "name": "ipython",
    "version": 3
   },
   "file_extension": ".py",
   "mimetype": "text/x-python",
   "name": "python",
   "nbconvert_exporter": "python",
   "pygments_lexer": "ipython3",
   "version": "3.7.0"
  }
 },
 "nbformat": 4,
 "nbformat_minor": 5
}
